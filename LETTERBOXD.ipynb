{
  "cells": [
    {
      "cell_type": "code",
      "execution_count": 155,
      "metadata": {
        "id": "5hQF9id4pFGs"
      },
      "outputs": [],
      "source": [
        "import pandas as pd\n",
        "import numpy as np\n",
        "\n",
        "#Dados importados do perfil Vini0804 em 14/04/2024\n",
        "\n",
        "diary_df = pd.read_csv(r\"C:\\Users\\arauj\\OneDrive\\Área de Trabalho\\Movie_Project\\diary.csv\")\n",
        "likes_df = pd.read_csv(r\"C:\\Users\\arauj\\OneDrive\\Área de Trabalho\\Movie_Project\\likes\\films.csv\")\n",
        "ratings_df= pd.read_csv(r\"C:\\Users\\arauj\\OneDrive\\Área de Trabalho\\Movie_Project\\ratings.csv\")\n",
        "watched_df=pd.read_csv(r\"C:\\Users\\arauj\\OneDrive\\Área de Trabalho\\Movie_Project\\watched.csv\")\n",
        "\n",
        "# Manipulando os dados para juntar todos em um só dataframe \n",
        "\n",
        "watched_df =  watched_df.drop('Date', axis=1)  # Removendo a coluna Date pois ela não sera usada\n",
        "watched_df[\"Like\"]=watched_df[\"Name\"].isin(likes_df[\"Name\"]) # Criando a  coluna Like com base nos filmes que estao no dataframe Likes\n",
        "\n",
        "\n",
        "#print(watched_df)"
      ]
    },
    {
      "cell_type": "code",
      "execution_count": 156,
      "metadata": {},
      "outputs": [],
      "source": [
        "# Adicionando a data de quando o filme foi visto \n",
        "\n",
        "watched_df['First Log Date'] = np.nan  # Criando uma nova coluna \n",
        "\n",
        "for indice_watch, filme in enumerate(watched_df[\"Name\"]):\n",
        "    for indice_diario, filme_diario in enumerate(diary_df[\"Name\"]):\n",
        "        if filme == filme_diario:\n",
        "            watched_df.loc[indice_watch, \"First Log Date\"] = diary_df.loc[indice_diario, \"Watched Date\"]\n",
        "            \n",
        "#print(watched_df)"
      ]
    },
    {
      "cell_type": "code",
      "execution_count": 157,
      "metadata": {},
      "outputs": [],
      "source": [
        "# Adicionando o rating do filme \n",
        "\n",
        "watched_df['Rating'] = np.nan  # Criando uma nova coluna \n",
        "\n",
        "for indice_watch, filme in enumerate(watched_df[\"Name\"]):\n",
        "    for indice_rating, filme_rating in enumerate(ratings_df[\"Name\"]):\n",
        "        if filme == filme_rating:\n",
        "            watched_df.loc[indice_watch, \"Rating\"] = ratings_df.loc[indice_rating, \"Rating\"]\n",
        "            \n",
        "#print(watched_df)"
      ]
    },
    {
      "cell_type": "code",
      "execution_count": 158,
      "metadata": {},
      "outputs": [
        {
          "name": "stdout",
          "output_type": "stream",
          "text": [
            "                                    Name  Year        Letterboxd URI   Like  \\\n",
            "0                         Captain Marvel  2019  https://boxd.it/9vSA  False   \n",
            "1      Spider-Man: Into the Spider-Verse  2018  https://boxd.it/azpY   True   \n",
            "2                          The Favourite  2018  https://boxd.it/d2hI  False   \n",
            "3                             Green Book  2018  https://boxd.it/hErk  False   \n",
            "4                         A Star Is Born  2018  https://boxd.it/aXgc  False   \n",
            "...                                  ...   ...                   ...    ...   \n",
            "1598  Before the Devil Knows You're Dead  2007  https://boxd.it/20Jy   True   \n",
            "1599                  Orion and the Dark  2024  https://boxd.it/H2TW  False   \n",
            "1600                              Priest  2011  https://boxd.it/16fM  False   \n",
            "1601                        Philadelphia  1993  https://boxd.it/1XMk  False   \n",
            "1602                Cheaper by the Dozen  2003  https://boxd.it/1USa  False   \n",
            "\n",
            "     First Log Date  Rating  Rewatch  \n",
            "0               NaN     3.0        0  \n",
            "1               NaN     5.0        0  \n",
            "2               NaN     4.0        0  \n",
            "3               NaN     3.5        0  \n",
            "4               NaN     3.5        0  \n",
            "...             ...     ...      ...  \n",
            "1598     2024-04-06     NaN        0  \n",
            "1599     2024-04-09     NaN        0  \n",
            "1600     2024-04-09     NaN        0  \n",
            "1601     2024-04-11     NaN        0  \n",
            "1602            NaN     NaN        0  \n",
            "\n",
            "[1603 rows x 7 columns]\n"
          ]
        }
      ],
      "source": [
        "# Contador de filmes reassistidos\n",
        "\n",
        "watched_df['Rewatch'] = 0\n",
        "for indice_watch, filme in enumerate(watched_df[\"Name\"]):\n",
        "    for indice_diario, filme_diario in enumerate(diary_df[\"Name\"]):\n",
        "        if filme == filme_diario and diary_df[\"Rewatch\"][indice_diario]==\"Yes\":\n",
        "            watched_df.loc[indice_watch, 'Rewatch'] += 1\n",
        "\n",
        "print(watched_df)\n"
      ]
    }
  ],
  "metadata": {
    "colab": {
      "provenance": []
    },
    "kernelspec": {
      "display_name": "Python 3",
      "name": "python3"
    },
    "language_info": {
      "codemirror_mode": {
        "name": "ipython",
        "version": 3
      },
      "file_extension": ".py",
      "mimetype": "text/x-python",
      "name": "python",
      "nbconvert_exporter": "python",
      "pygments_lexer": "ipython3",
      "version": "3.9.13"
    }
  },
  "nbformat": 4,
  "nbformat_minor": 0
}
